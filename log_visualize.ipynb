{
 "cells": [
  {
   "cell_type": "code",
   "execution_count": 1,
   "metadata": {},
   "outputs": [],
   "source": [
    "from utils import *"
   ]
  },
  {
   "cell_type": "code",
   "execution_count": 2,
   "metadata": {},
   "outputs": [],
   "source": [
    "# read logs in the log folder\n",
    "log_path = './log/'\n",
    "logs = read_log_dir(log_path)"
   ]
  },
  {
   "cell_type": "code",
   "execution_count": null,
   "metadata": {},
   "outputs": [],
   "source": [
    "# plot all logs\n",
    "plot_accruacy_netconf(logs)"
   ]
  },
  {
   "cell_type": "code",
   "execution_count": null,
   "metadata": {},
   "outputs": [],
   "source": [
    "# plot all accuracy epoch and loss epoch\n",
    "# first find all unique style-type-dataset-qubits-reupload-layers combination\n",
    "# and make a list of dict for each combination\n",
    "# then plot the accuracy for each combination\n",
    "comb = {}\n",
    "for log in logs:\n",
    "    comb_name = log['style'] + '-' + log['type'] + '-' + log['dataset'] + '-' + str(log['n_qubits']) + '-' + str(log['n_reuploads']) + '-' + str(log['n_layers'])\n",
    "    if comb_name not in comb:\n",
    "        comb[comb_name] = {\n",
    "            'style': log['style'],\n",
    "            'type': log['type'],\n",
    "            'dataset': log['dataset'],\n",
    "            'n_qubits': log['n_qubits'],\n",
    "            'n_reuploads': log['n_reuploads'],\n",
    "            'n_layers': log['n_layers']\n",
    "        }\n",
    "# plot them\n",
    "for comb_name in comb:\n",
    "    plot_accruacy_epoch(logs, style=comb[comb_name]['style'], dataset=comb[comb_name]['dataset'], n_qubits=comb[comb_name]['n_qubits'], n_reuploads=comb[comb_name]['n_reuploads'], n_layers=comb[comb_name]['n_layers'], type=comb[comb_name]['type'])\n",
    "    plot_loss_epoch(logs, style=comb[comb_name]['style'], dataset=comb[comb_name]['dataset'], n_qubits=comb[comb_name]['n_qubits'], n_reuploads=comb[comb_name]['n_reuploads'], n_layers=comb[comb_name]['n_layers'], type=comb[comb_name]['type'])"
   ]
  },
  {
   "cell_type": "code",
   "execution_count": null,
   "metadata": {},
   "outputs": [],
   "source": [
    "# plot all type=='qnnn' style=='u3cu3' dataset='vowel' logs\n",
    "# and highlight n_layers=4 n_reuploads=8\n",
    "plot_accruacy_netconf_trebled(logs, style='u3cu3', type='qnnn', dataset='vowel', t_layers=4, t_reuploads=8)"
   ]
  }
 ],
 "metadata": {
  "kernelspec": {
   "display_name": "mqsabre",
   "language": "python",
   "name": "python3"
  },
  "language_info": {
   "codemirror_mode": {
    "name": "ipython",
    "version": 3
   },
   "file_extension": ".py",
   "mimetype": "text/x-python",
   "name": "python",
   "nbconvert_exporter": "python",
   "pygments_lexer": "ipython3",
   "version": "3.9.16"
  },
  "orig_nbformat": 4
 },
 "nbformat": 4,
 "nbformat_minor": 2
}
